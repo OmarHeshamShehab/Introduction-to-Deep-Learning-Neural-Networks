{
 "cells": [
  {
   "cell_type": "markdown",
   "metadata": {},
   "source": [
    "# Import Numpy library & Initialize weights and biases\n"
   ]
  },
  {
   "cell_type": "code",
   "execution_count": 1,
   "metadata": {},
   "outputs": [],
   "source": [
    "import numpy as np\n",
    "\n",
    "# np.random.uniform It means that the generated numbers are not guaranteed to be equivalent to each other\n",
    "weights = np.around(np.random.uniform(size=6), decimals=2)\n",
    "biases = np.around(np.random.uniform(size=3), decimals=2)"
   ]
  },
  {
   "cell_type": "code",
   "execution_count": 2,
   "metadata": {},
   "outputs": [
    {
     "name": "stdout",
     "output_type": "stream",
     "text": [
      "[0.38 0.99 0.93 0.43 0.8  0.44]\n",
      "[0.6  0.88 0.08]\n"
     ]
    }
   ],
   "source": [
    "print(weights)\n",
    "print(biases)"
   ]
  },
  {
   "cell_type": "markdown",
   "metadata": {},
   "source": [
    "<img src=\"http://cocl.us/neural_network_example\" alt=\"Neural Network Example\" width=\"600px\">\n"
   ]
  },
  {
   "cell_type": "markdown",
   "metadata": {},
   "source": [
    "# Calculating based on below inputs\n"
   ]
  },
  {
   "cell_type": "code",
   "execution_count": 3,
   "metadata": {},
   "outputs": [
    {
     "name": "stdout",
     "output_type": "stream",
     "text": [
      "x1 is 0.5 and x2 is 0.85\n"
     ]
    }
   ],
   "source": [
    "x_1 = 0.5  # input 1\n",
    "x_2 = 0.85  # input 2\n",
    "\n",
    "print(\"x1 is {} and x2 is {}\".format(x_1, x_2))"
   ]
  },
  {
   "cell_type": "code",
   "execution_count": 4,
   "metadata": {},
   "outputs": [
    {
     "name": "stdout",
     "output_type": "stream",
     "text": [
      "The weighted sum of the inputs at the first node in the hidden layer is 1.6315\n",
      "The weighted sum of the inputs at the second node in the hidden layer is 2.1654999999999998\n"
     ]
    }
   ],
   "source": [
    "z_11 = x_1 * weights[0] + x_2 * weights[1] + biases[0]\n",
    "\n",
    "print(\n",
    "    \"The weighted sum of the inputs at the first node in the hidden layer is {}\".format(\n",
    "        z_11\n",
    "    )\n",
    ")\n",
    "\n",
    "z_12 = x_1 * weights[1] + x_2 * weights[2] + biases[1]\n",
    "\n",
    "print(\n",
    "    \"The weighted sum of the inputs at the second node in the hidden layer is {}\".format(\n",
    "        z_12\n",
    "    )\n",
    ")"
   ]
  },
  {
   "cell_type": "markdown",
   "metadata": {},
   "source": [
    "# Sigmoid Activation\n"
   ]
  },
  {
   "cell_type": "code",
   "execution_count": 5,
   "metadata": {},
   "outputs": [
    {
     "name": "stdout",
     "output_type": "stream",
     "text": [
      "The activation of the first node in the hidden layer is 0.8364\n",
      "The activation of the first second in the hidden layer is 0.8971\n"
     ]
    }
   ],
   "source": [
    "a_11 = 1.0 / (1.0 + np.exp(-z_11))\n",
    "print(\n",
    "    \"The activation of the first node in the hidden layer is {}\".format(\n",
    "        np.around(a_11, decimals=4)\n",
    "    )\n",
    ")\n",
    "a_12 = 1.0 / (1.0 + np.exp(-z_12))\n",
    "print(\n",
    "    \"The activation of the first second in the hidden layer is {}\".format(\n",
    "        np.around(a_12, decimals=4)\n",
    "    )\n",
    ")"
   ]
  },
  {
   "cell_type": "markdown",
   "metadata": {},
   "source": [
    "# Now these activations will serve as the inputs to the output layer. So, let's compute the weighted sum of these inputs to the node in the output layer.\n"
   ]
  },
  {
   "cell_type": "code",
   "execution_count": 6,
   "metadata": {},
   "outputs": [
    {
     "name": "stdout",
     "output_type": "stream",
     "text": [
      "The weighted sum of the inputs at the node in the output layer is 1.1438\n"
     ]
    }
   ],
   "source": [
    "z_2 = a_11 * weights[4] + a_12 * weights[5] + biases[2]\n",
    "print(\n",
    "    \"The weighted sum of the inputs at the node in the output layer is {}\".format(\n",
    "        np.around(z_2, decimals=4)\n",
    "    )\n",
    ")"
   ]
  },
  {
   "cell_type": "markdown",
   "metadata": {},
   "source": [
    "# Compute the output of the network as the activation of the node in the output layer.\n"
   ]
  },
  {
   "cell_type": "code",
   "execution_count": 7,
   "metadata": {},
   "outputs": [
    {
     "name": "stdout",
     "output_type": "stream",
     "text": [
      "The output of the network for x1 = 0.5 and x2 = 0.85 is 0.7584\n"
     ]
    }
   ],
   "source": [
    "a_2 = 1.0 / (1.0 + np.exp(-z_2))\n",
    "print(\n",
    "    \"The output of the network for x1 = 0.5 and x2 = 0.85 is {}\".format(\n",
    "        np.around(a_2, decimals=4)\n",
    "    )\n",
    ")"
   ]
  },
  {
   "cell_type": "markdown",
   "metadata": {},
   "source": [
    "# Code an automatic way of making predictions\n"
   ]
  },
  {
   "cell_type": "code",
   "execution_count": 8,
   "metadata": {},
   "outputs": [],
   "source": [
    "n = 2  # number of inputs\n",
    "num_hidden_layers = 2  # number of hidden layers\n",
    "m = [2, 2]  # number of nodes in each hidden layer\n",
    "num_nodes_output = 1  # number of nodes in the output layer"
   ]
  }
 ],
 "metadata": {
  "kernelspec": {
   "display_name": "Python 3",
   "language": "python",
   "name": "python3"
  },
  "language_info": {
   "codemirror_mode": {
    "name": "ipython",
    "version": 3
   },
   "file_extension": ".py",
   "mimetype": "text/x-python",
   "name": "python",
   "nbconvert_exporter": "python",
   "pygments_lexer": "ipython3",
   "version": "3.10.13"
  }
 },
 "nbformat": 4,
 "nbformat_minor": 2
}
